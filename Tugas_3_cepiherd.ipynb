{
 "cells": [
  {
   "cell_type": "markdown",
   "metadata": {},
   "source": [
    "1. Keluarkan dan tampilkan menggunakan print semua anggota list pada sel dibawah"
   ]
  },
  {
   "cell_type": "code",
   "execution_count": 137,
   "metadata": {},
   "outputs": [
    {
     "name": "stdout",
     "output_type": "stream",
     "text": [
      "bandung\n",
      "jakarta\n",
      "semarang\n",
      "palembang\n"
     ]
    }
   ],
   "source": [
    "#kerjakan soal no.1 pada sel berikut ini\n",
    "#contoh list = [1,2,3]\n",
    "#contoh hasil\n",
    "#1\n",
    "#2\n",
    "#3\n",
    "data_list = ['bandung', 'jakarta', 'semarang', 'palembang']\n",
    "for list in data_list :\n",
    "    print(list)"
   ]
  },
  {
   "cell_type": "markdown",
   "metadata": {},
   "source": [
    "2. Keluarkan dan tampilkan menggunakan metode print anggota list dengan tipe numerik (int & float) dari list pada sel di bawah"
   ]
  },
  {
   "cell_type": "code",
   "execution_count": 15,
   "metadata": {},
   "outputs": [
    {
     "name": "stdout",
     "output_type": "stream",
     "text": [
      "100\n",
      "15.5\n"
     ]
    }
   ],
   "source": [
    "#kerjakan soal no.2 pada sel berikut ini\n",
    "#contoh list = ['a', 1]\n",
    "#contoh hasil :\n",
    "#1\n",
    "\n",
    "data_list_2 = [100, 'makassar', 15.5, True, \"20\"] \n",
    "for list in data_list_2 :\n",
    "    if type(list) != str and type(list) != bool :\n",
    "        print(list)"
   ]
  },
  {
   "cell_type": "markdown",
   "metadata": {},
   "source": [
    "3. Buat sebuah kode if else yang dapat menyatakan apakah suatu bilangan ganjil atau genap."
   ]
  },
  {
   "cell_type": "code",
   "execution_count": 12,
   "metadata": {},
   "outputs": [
    {
     "name": "stdout",
     "output_type": "stream",
     "text": [
      "ganjil\n"
     ]
    }
   ],
   "source": [
    "#kerjakan soal no.3 disini\n",
    "\n",
    "number = 9\n",
    "\n",
    "#hint\n",
    "\n",
    "if number % 2 == 0: \n",
    "    print('genap')\n",
    "else:\n",
    "    print('ganjil')\n",
    "\n",
    "#hasil yang diharapkan\n",
    "#ganjil\n"
   ]
  },
  {
   "cell_type": "markdown",
   "metadata": {},
   "source": [
    "4. Kalikan semua anggota list_1 terhadap anggota ganjil pada list_2. tampilkan hasilnya"
   ]
  },
  {
   "cell_type": "code",
   "execution_count": 188,
   "metadata": {},
   "outputs": [
    {
     "name": "stdout",
     "output_type": "stream",
     "text": [
      "3\n",
      "9\n",
      "6\n",
      "18\n",
      "9\n",
      "27\n",
      "12\n",
      "36\n",
      "15\n",
      "45\n"
     ]
    },
    {
     "data": {
      "text/plain": [
       "'\\n3\\n9\\n6\\n18\\n9\\n27\\n12\\n36\\n15\\n45\\n'"
      ]
     },
     "execution_count": 188,
     "metadata": {},
     "output_type": "execute_result"
    }
   ],
   "source": [
    "#kerjakan soal no.4 pada sel berikut ini\n",
    "list_1 = [1,2,3,4,5]\n",
    "list_2 = [2,3,6,8,9]\n",
    "\n",
    "\n",
    "for list in list_1 : \n",
    "    for list2 in list_2 : \n",
    "        if list2 % 2 != 0 :\n",
    "            print(list * list2)\n",
    "\n",
    "\n",
    "#hasil yang diharapkan\n",
    "'''\n",
    "3\n",
    "9\n",
    "6\n",
    "18\n",
    "9\n",
    "27\n",
    "12\n",
    "36\n",
    "15\n",
    "45\n",
    "'''"
   ]
  },
  {
   "cell_type": "markdown",
   "metadata": {},
   "source": [
    "5. lakukan pengecekan apakah terdapat angka pada tiap2 anggota list. lalu tampilkan sesuai format yang diminta"
   ]
  },
  {
   "cell_type": "code",
   "execution_count": 186,
   "metadata": {
    "scrolled": true
   },
   "outputs": [
    {
     "name": "stdout",
     "output_type": "stream",
     "text": [
      "asda8asd Memiliki angka\n",
      "bandunglautanapi Tidak Memiliki angka\n",
      "washingt0nDC Memiliki angka\n"
     ]
    }
   ],
   "source": [
    "#kerjakan soal no.5 pada sel berikut ini\n",
    "#contoh list = ['ada', 'ganesa10']\n",
    "#contoh hasil:\n",
    "#ada tidak memiliki angka\n",
    "#ganesa10 memiliki angka\n",
    "\n",
    "data_list_3 = ['asda8asd', 'bandunglautanapi', 'washingt0nDC']\n",
    "\n",
    "for i in data_list_3: \n",
    "    char = []\n",
    "    for c in i :\n",
    "        if c.isdigit() :\n",
    "            char.append(c)\n",
    "    x = ''.join(char)\n",
    "    \n",
    "    if x.isdigit():\n",
    "        print(i + ' Memiliki angka')\n",
    "    else : \n",
    "        print(i + ' Tidak Memiliki angka')\n",
    "    "
   ]
  },
  {
   "cell_type": "markdown",
   "metadata": {},
   "source": [
    "6. Cari siswa mana saja yang memiliki nilai lebih dari sama dengan 80. Masukkan kedalam sebuah list. print hasilnya"
   ]
  },
  {
   "cell_type": "code",
   "execution_count": 178,
   "metadata": {},
   "outputs": [
    {
     "name": "stdout",
     "output_type": "stream",
     "text": [
      "['Budi', 'Rudi', 'Leo']\n"
     ]
    }
   ],
   "source": [
    "#kerjakan soal no.6 pada sel berikut ini\n",
    "\n",
    "data_siswa = [\n",
    "    {\n",
    "        \"nama\":\"Budi\",\n",
    "        \"nilai\": 90\n",
    "    },\n",
    "    {\n",
    "        \"nama\":\"Nina\",\n",
    "        \"nilai\": 78\n",
    "    },\n",
    "    {\n",
    "        \"nama\":\"Rudi\",\n",
    "        \"nilai\": 91\n",
    "    },\n",
    "    {\n",
    "        \"nama\":\"Olivia\",\n",
    "        \"nilai\": 76\n",
    "    },\n",
    "    {\n",
    "        \"nama\":\"Leo\",\n",
    "        \"nilai\": 80\n",
    "    },\n",
    "    {\n",
    "        \"nama\":\"Liam\",\n",
    "        \"nilai\": 67\n",
    "    },\n",
    "    {\n",
    "        \"nama\":\"Sheila\",\n",
    "        \"nilai\": 76\n",
    "    }\n",
    "]\n",
    "\n",
    "hasil = []\n",
    "for i in data_siswa : \n",
    "    if i['nilai'] >= 80 :\n",
    "        hasil.append(i['nama'])\n",
    "print(hasil)\n",
    "#hasil yang diharapkan\n",
    "#[Budi, Rudi, Leo]"
   ]
  },
  {
   "cell_type": "code",
   "execution_count": null,
   "metadata": {},
   "outputs": [],
   "source": []
  }
 ],
 "metadata": {
  "kernelspec": {
   "display_name": "Python 3 (ipykernel)",
   "language": "python",
   "name": "python3"
  },
  "language_info": {
   "codemirror_mode": {
    "name": "ipython",
    "version": 3
   },
   "file_extension": ".py",
   "mimetype": "text/x-python",
   "name": "python",
   "nbconvert_exporter": "python",
   "pygments_lexer": "ipython3",
   "version": "3.9.13"
  }
 },
 "nbformat": 4,
 "nbformat_minor": 2
}
