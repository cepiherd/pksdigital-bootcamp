{
 "cells": [
  {
   "cell_type": "code",
   "execution_count": 53,
   "metadata": {
    "colab": {},
    "colab_type": "code",
    "id": "GyakVoXhBGrv",
    "outputId": "39b8ca38-73c2-4f96-a16b-9898575919b9"
   },
   "outputs": [
    {
     "data": {
      "text/html": [
       "<div>\n",
       "<style scoped>\n",
       "    .dataframe tbody tr th:only-of-type {\n",
       "        vertical-align: middle;\n",
       "    }\n",
       "\n",
       "    .dataframe tbody tr th {\n",
       "        vertical-align: top;\n",
       "    }\n",
       "\n",
       "    .dataframe thead th {\n",
       "        text-align: right;\n",
       "    }\n",
       "</style>\n",
       "<table border=\"1\" class=\"dataframe\">\n",
       "  <thead>\n",
       "    <tr style=\"text-align: right;\">\n",
       "      <th></th>\n",
       "      <th>siswa_id</th>\n",
       "      <th>pelajaran</th>\n",
       "      <th>nilai</th>\n",
       "      <th>jenis-kelamin</th>\n",
       "      <th>kelas</th>\n",
       "    </tr>\n",
       "  </thead>\n",
       "  <tbody>\n",
       "    <tr>\n",
       "      <th>0</th>\n",
       "      <td>1</td>\n",
       "      <td>Biologi</td>\n",
       "      <td>47</td>\n",
       "      <td>laki-laki</td>\n",
       "      <td>12C</td>\n",
       "    </tr>\n",
       "    <tr>\n",
       "      <th>1</th>\n",
       "      <td>2</td>\n",
       "      <td>Fisika</td>\n",
       "      <td>38</td>\n",
       "      <td>laki-laki</td>\n",
       "      <td>12D</td>\n",
       "    </tr>\n",
       "    <tr>\n",
       "      <th>2</th>\n",
       "      <td>3</td>\n",
       "      <td>Fisika</td>\n",
       "      <td>26</td>\n",
       "      <td>laki-laki</td>\n",
       "      <td>12A</td>\n",
       "    </tr>\n",
       "    <tr>\n",
       "      <th>3</th>\n",
       "      <td>4</td>\n",
       "      <td>Geologi</td>\n",
       "      <td>93</td>\n",
       "      <td>perempuan</td>\n",
       "      <td>12D</td>\n",
       "    </tr>\n",
       "    <tr>\n",
       "      <th>4</th>\n",
       "      <td>5</td>\n",
       "      <td>Ekonomi</td>\n",
       "      <td>43</td>\n",
       "      <td>perempuan</td>\n",
       "      <td>12A</td>\n",
       "    </tr>\n",
       "  </tbody>\n",
       "</table>\n",
       "</div>"
      ],
      "text/plain": [
       "   siswa_id pelajaran  nilai jenis-kelamin kelas\n",
       "0         1   Biologi     47     laki-laki   12C\n",
       "1         2    Fisika     38     laki-laki   12D\n",
       "2         3    Fisika     26     laki-laki   12A\n",
       "3         4   Geologi     93     perempuan   12D\n",
       "4         5   Ekonomi     43     perempuan   12A"
      ]
     },
     "execution_count": 53,
     "metadata": {},
     "output_type": "execute_result"
    }
   ],
   "source": [
    "# Persiapan membuat data\n",
    "import pandas as pd\n",
    "import random\n",
    "\n",
    "pelajaran = ['Matematika', 'Fisika', 'Biologi', 'Kimia', 'Geologi', 'Ekonomi']\n",
    "kelas = ['12A', '12B', '12C', '12D']\n",
    "\n",
    "hasil_nilai = {\n",
    "    'siswa_id' : range(1, 21),\n",
    "    'pelajaran' : [random.choice(pelajaran) for i in range(20)],\n",
    "    'nilai' : [random.choice(range(0, 100)) for i in range(20)],\n",
    "    'jenis-kelamin' : [random.choice(['laki-laki', 'perempuan']) for i in range(20)],\n",
    "    'kelas' : [random.choice(kelas) for i in range(20)]\n",
    "}\n",
    "\n",
    "df = pd.DataFrame(hasil_nilai)\n",
    "df.head()"
   ]
  },
  {
   "cell_type": "markdown",
   "metadata": {
    "colab_type": "text",
    "id": "aNoScqypBGr5"
   },
   "source": [
    "<h2>Soal 1: Indexing</h2>\n",
    "\n",
    "1. Lakukan indexing terhadap dataframe untuk mengakses column nilai dan kelas saja\n",
    "2. Lakukan indexing terhadap dataframe untuk mengakses row 5 sampai 10 beserta column pelajaran dan nilai"
   ]
  },
  {
   "cell_type": "code",
   "execution_count": 18,
   "metadata": {
    "colab": {},
    "colab_type": "code",
    "id": "rKmgvnS2BGr6"
   },
   "outputs": [
    {
     "name": "stdout",
     "output_type": "stream",
     "text": [
      "    nilai kelas\n",
      "0      18   12C\n",
      "1      69   12B\n",
      "2      66   12D\n",
      "3      35   12B\n",
      "4      35   12C\n",
      "5      74   12B\n",
      "6      80   12D\n",
      "7      35   12B\n",
      "8      10   12A\n",
      "9       9   12C\n",
      "10     57   12B\n",
      "11     71   12D\n",
      "12     30   12C\n",
      "13     41   12C\n",
      "14     29   12C\n",
      "15     34   12C\n",
      "16     21   12C\n",
      "17     41   12C\n",
      "18     36   12A\n",
      "19     74   12B\n",
      "   pelajaran  nilai\n",
      "5    Biologi     74\n",
      "6    Biologi     80\n",
      "7    Geologi     35\n",
      "8     Fisika     10\n",
      "9    Geologi      9\n",
      "10    Fisika     57\n"
     ]
    }
   ],
   "source": [
    "# code here\n",
    "print(df.loc[:,['nilai','kelas']])\n",
    "\n",
    "print(df.loc[5:10,['pelajaran','nilai']])"
   ]
  },
  {
   "cell_type": "markdown",
   "metadata": {
    "colab_type": "text",
    "id": "F55zUl5GBGr_"
   },
   "source": [
    "<h2>Soal 2: Filter DataFrame Dengan Boolean</h2>\n",
    "\n",
    "1. Tampilkan semua data siswa pada mata pelajaran Ekonomi dan Fisika\n",
    "2. Tampilkan semua data siswa yang mempunyai nilai lebih dari 50 di mata pelajaran Kimia \n",
    "3. Tampilkan semua data yang mempunyai nilai lebih dari 70, berjnis kelamin perempuan dan di kelas 12C"
   ]
  },
  {
   "cell_type": "code",
   "execution_count": 33,
   "metadata": {
    "colab": {},
    "colab_type": "code",
    "id": "eB5oSf_KBGsA",
    "scrolled": true
   },
   "outputs": [
    {
     "name": "stdout",
     "output_type": "stream",
     "text": [
      "    siswa_id   pelajaran  nilai jenis-kelamin kelas\n",
      "0          1     Biologi     18     laki-laki   12C\n",
      "1          2     Ekonomi     69     perempuan   12B\n",
      "2          3  Matematika     66     laki-laki   12D\n",
      "3          4     Biologi     35     laki-laki   12B\n",
      "4          5     Geologi     35     perempuan   12C\n",
      "5          6     Biologi     74     laki-laki   12B\n",
      "6          7     Biologi     80     perempuan   12D\n",
      "7          8     Geologi     35     perempuan   12B\n",
      "8          9      Fisika     10     laki-laki   12A\n",
      "9         10     Geologi      9     perempuan   12C\n",
      "10        11      Fisika     57     laki-laki   12B\n",
      "11        12     Ekonomi     71     perempuan   12D\n",
      "12        13      Fisika     30     perempuan   12C\n",
      "13        14  Matematika     41     perempuan   12C\n",
      "14        15       Kimia     29     perempuan   12C\n",
      "15        16     Biologi     34     perempuan   12C\n",
      "16        17       Kimia     21     laki-laki   12C\n",
      "17        18      Fisika     41     perempuan   12C\n",
      "18        19     Geologi     36     perempuan   12A\n",
      "19        20       Kimia     74     perempuan   12B\n",
      "    siswa_id pelajaran  nilai jenis-kelamin kelas\n",
      "1          2   Ekonomi     69     perempuan   12B\n",
      "8          9    Fisika     10     laki-laki   12A\n",
      "10        11    Fisika     57     laki-laki   12B\n",
      "11        12   Ekonomi     71     perempuan   12D\n",
      "12        13    Fisika     30     perempuan   12C\n",
      "17        18    Fisika     41     perempuan   12C\n",
      "    siswa_id pelajaran  nilai jenis-kelamin kelas\n",
      "19        20     Kimia     74     perempuan   12B\n",
      "Empty DataFrame\n",
      "Columns: [siswa_id, pelajaran, nilai, jenis-kelamin, kelas]\n",
      "Index: []\n"
     ]
    }
   ],
   "source": [
    "# code here\n",
    "# bolean series orang yang selamat\n",
    "Ekonomi = df.pelajaran == \"Ekonomi\"\n",
    "Fisika = df.pelajaran == \"Fisika\"\n",
    "Kimia = df.pelajaran == \"Kimia\"\n",
    "lebih50 = df.nilai > 50\n",
    "lebih70 = df.nilai > 70\n",
    "female = df['jenis-kelamin'] == 'perempuan'\n",
    "kelas12c = df.kelas == \"12C\"\n",
    "print(df)\n",
    "print(df[(Ekonomi) | (Fisika)])\n",
    "print(df[(Kimia) & (lebih50)])\n",
    "print(df[(lebih70) & (female) & (kelas12c)])"
   ]
  },
  {
   "cell_type": "markdown",
   "metadata": {
    "colab_type": "text",
    "id": "6Od6R3H1BGsE"
   },
   "source": [
    "<h2>Soal 3: Data Transformation</h2>\n",
    "\n",
    "lakukan data transformasi terhadap column 'nilai' dengan fungsi transformasi, berikut rumus dari normalisasi\n",
    "\n",
    "![alt text](https://drive.google.com/uc?id=1wed-EbRSTA0JP1ceDp6lcKBqH2yJ4aa3)"
   ]
  },
  {
   "cell_type": "code",
   "execution_count": 57,
   "metadata": {
    "colab": {},
    "colab_type": "code",
    "id": "qeV_iH8nBGsF"
   },
   "outputs": [
    {
     "name": "stdout",
     "output_type": "stream",
     "text": [
      "0     31.83871\n",
      "1     22.83871\n",
      "2     10.83871\n",
      "3     77.83871\n",
      "4     27.83871\n",
      "5     64.83871\n",
      "6     20.83871\n",
      "7     42.83871\n",
      "8     31.83871\n",
      "9      5.83871\n",
      "10     7.83871\n",
      "11    74.83871\n",
      "12     0.83871\n",
      "13    54.83871\n",
      "14     2.83871\n",
      "15    10.83871\n",
      "16     7.83871\n",
      "17    -0.16129\n",
      "18    51.83871\n",
      "19    74.83871\n",
      "Name: nilai, dtype: float64\n"
     ]
    }
   ],
   "source": [
    "# code here\n",
    "nominalisasi = (df[\"nilai\"] - df[\"nilai\"].min() / df[\"nilai\"].max() - df[\"nilai\"].min())\n",
    "print(nominalisasi)"
   ]
  },
  {
   "cell_type": "code",
   "execution_count": null,
   "metadata": {},
   "outputs": [],
   "source": []
  },
  {
   "cell_type": "code",
   "execution_count": null,
   "metadata": {},
   "outputs": [],
   "source": []
  },
  {
   "cell_type": "code",
   "execution_count": null,
   "metadata": {},
   "outputs": [],
   "source": []
  }
 ],
 "metadata": {
  "colab": {
   "name": "Tugas Hari 2 Pekan 2.ipynb",
   "provenance": []
  },
  "kernelspec": {
   "display_name": "Python 3 (ipykernel)",
   "language": "python",
   "name": "python3"
  },
  "language_info": {
   "codemirror_mode": {
    "name": "ipython",
    "version": 3
   },
   "file_extension": ".py",
   "mimetype": "text/x-python",
   "name": "python",
   "nbconvert_exporter": "python",
   "pygments_lexer": "ipython3",
   "version": "3.9.13"
  }
 },
 "nbformat": 4,
 "nbformat_minor": 1
}
