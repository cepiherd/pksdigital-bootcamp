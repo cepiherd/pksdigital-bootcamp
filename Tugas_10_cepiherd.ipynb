{
 "cells": [
  {
   "cell_type": "code",
   "execution_count": 56,
   "metadata": {
    "colab": {
     "base_uri": "https://localhost:8080/",
     "height": 425
    },
    "id": "F_3_cdHcQrN4",
    "outputId": "6c8c2174-1814-42d5-c86f-0cf320b8ceae"
   },
   "outputs": [
    {
     "data": {
      "text/html": [
       "<div>\n",
       "<style scoped>\n",
       "    .dataframe tbody tr th:only-of-type {\n",
       "        vertical-align: middle;\n",
       "    }\n",
       "\n",
       "    .dataframe tbody tr th {\n",
       "        vertical-align: top;\n",
       "    }\n",
       "\n",
       "    .dataframe thead th {\n",
       "        text-align: right;\n",
       "    }\n",
       "</style>\n",
       "<table border=\"1\" class=\"dataframe\">\n",
       "  <thead>\n",
       "    <tr style=\"text-align: right;\">\n",
       "      <th></th>\n",
       "      <th>Tipe Ujian</th>\n",
       "      <th>Mata Pelajaran</th>\n",
       "      <th>Rata2 Waktu Belajar (menit)</th>\n",
       "      <th>Rata2 Nilai Ujian</th>\n",
       "    </tr>\n",
       "  </thead>\n",
       "  <tbody>\n",
       "    <tr>\n",
       "      <th>0</th>\n",
       "      <td>UTS1</td>\n",
       "      <td>Fisika</td>\n",
       "      <td>321</td>\n",
       "      <td>65</td>\n",
       "    </tr>\n",
       "    <tr>\n",
       "      <th>1</th>\n",
       "      <td>UAS1</td>\n",
       "      <td>Fisika</td>\n",
       "      <td>661</td>\n",
       "      <td>57</td>\n",
       "    </tr>\n",
       "    <tr>\n",
       "      <th>2</th>\n",
       "      <td>UTS2</td>\n",
       "      <td>Fisika</td>\n",
       "      <td>562</td>\n",
       "      <td>92</td>\n",
       "    </tr>\n",
       "    <tr>\n",
       "      <th>3</th>\n",
       "      <td>UAS2</td>\n",
       "      <td>Fisika</td>\n",
       "      <td>273</td>\n",
       "      <td>93</td>\n",
       "    </tr>\n",
       "    <tr>\n",
       "      <th>4</th>\n",
       "      <td>UTS1</td>\n",
       "      <td>Matematika</td>\n",
       "      <td>797</td>\n",
       "      <td>79</td>\n",
       "    </tr>\n",
       "    <tr>\n",
       "      <th>5</th>\n",
       "      <td>UAS1</td>\n",
       "      <td>Matematika</td>\n",
       "      <td>579</td>\n",
       "      <td>57</td>\n",
       "    </tr>\n",
       "    <tr>\n",
       "      <th>6</th>\n",
       "      <td>UTS2</td>\n",
       "      <td>Matematika</td>\n",
       "      <td>520</td>\n",
       "      <td>73</td>\n",
       "    </tr>\n",
       "    <tr>\n",
       "      <th>7</th>\n",
       "      <td>UAS2</td>\n",
       "      <td>Matematika</td>\n",
       "      <td>449</td>\n",
       "      <td>47</td>\n",
       "    </tr>\n",
       "    <tr>\n",
       "      <th>8</th>\n",
       "      <td>UTS1</td>\n",
       "      <td>Statistika</td>\n",
       "      <td>578</td>\n",
       "      <td>53</td>\n",
       "    </tr>\n",
       "    <tr>\n",
       "      <th>9</th>\n",
       "      <td>UAS1</td>\n",
       "      <td>Statistika</td>\n",
       "      <td>729</td>\n",
       "      <td>85</td>\n",
       "    </tr>\n",
       "    <tr>\n",
       "      <th>10</th>\n",
       "      <td>UTS2</td>\n",
       "      <td>Statistika</td>\n",
       "      <td>456</td>\n",
       "      <td>85</td>\n",
       "    </tr>\n",
       "    <tr>\n",
       "      <th>11</th>\n",
       "      <td>UAS2</td>\n",
       "      <td>Statistika</td>\n",
       "      <td>513</td>\n",
       "      <td>56</td>\n",
       "    </tr>\n",
       "  </tbody>\n",
       "</table>\n",
       "</div>"
      ],
      "text/plain": [
       "   Tipe Ujian Mata Pelajaran  Rata2 Waktu Belajar (menit)  Rata2 Nilai Ujian\n",
       "0        UTS1         Fisika                          321                 65\n",
       "1        UAS1         Fisika                          661                 57\n",
       "2        UTS2         Fisika                          562                 92\n",
       "3        UAS2         Fisika                          273                 93\n",
       "4        UTS1     Matematika                          797                 79\n",
       "5        UAS1     Matematika                          579                 57\n",
       "6        UTS2     Matematika                          520                 73\n",
       "7        UAS2     Matematika                          449                 47\n",
       "8        UTS1     Statistika                          578                 53\n",
       "9        UAS1     Statistika                          729                 85\n",
       "10       UTS2     Statistika                          456                 85\n",
       "11       UAS2     Statistika                          513                 56"
      ]
     },
     "execution_count": 56,
     "metadata": {},
     "output_type": "execute_result"
    }
   ],
   "source": [
    "import pandas as pd\n",
    "import random\n",
    "\n",
    "data = {\n",
    "    'Tipe Ujian' : ['UTS1', 'UAS1', 'UTS2', 'UAS2']*3,\n",
    "    'Mata Pelajaran' : ['Fisika']*4 + ['Matematika']*4+['Statistika']*4,\n",
    "    'Rata2 Waktu Belajar (menit)' : [random.choice(range(200, 800)) for i in range(12)],\n",
    "    'Rata2 Nilai Ujian' : [random.choice(range(40, 100)) for i in range(12)] \n",
    "}\n",
    "\n",
    "df = pd.DataFrame(data)\n",
    "df"
   ]
  },
  {
   "cell_type": "markdown",
   "metadata": {
    "id": "egOsOe_wkfDg"
   },
   "source": [
    "\n",
    "\n",
    "---\n",
    "\n",
    "\n",
    "\n",
    "---\n",
    "\n"
   ]
  },
  {
   "cell_type": "markdown",
   "metadata": {
    "id": "oF1KVGaMQrv8"
   },
   "source": [
    "## Soal 1. Data Cleaning\n",
    "\n",
    "Lakukan sorting data berdasarkan Rata2 nilai ujian dari terbesar ke terkecil\n",
    "\n",
    "*   Lakukan sorting data berdasarkan Rata2 nilai ujian dari terbesar ke terkecil\n",
    "*   Tipe Ujian dan Mata pelajaran apakah yang memiliki rata2 nilai terkecil?\n",
    "\n",
    "\n",
    "\n",
    "\n"
   ]
  },
  {
   "cell_type": "code",
   "execution_count": 20,
   "metadata": {
    "id": "72VAtmNwkhHS"
   },
   "outputs": [
    {
     "data": {
      "text/plain": [
       "Mata Pelajaran\n",
       "Fisika        45\n",
       "Matematika    53\n",
       "Statistika    50\n",
       "dtype: int64"
      ]
     },
     "execution_count": 20,
     "metadata": {},
     "output_type": "execute_result"
    }
   ],
   "source": [
    "#code here\n",
    "df.sort_values('Rata2 Nilai Ujian', ascending=False)\n",
    "pivot_min = pd.pivot_table(df, index='Tipe Ujian',columns='Mata Pelajaran' , values='Rata2 Nilai Ujian')\n",
    "pivot_min.min()"
   ]
  },
  {
   "cell_type": "code",
   "execution_count": 3,
   "metadata": {},
   "outputs": [
    {
     "ename": "SyntaxError",
     "evalue": "invalid syntax (700543583.py, line 3)",
     "output_type": "error",
     "traceback": [
      "\u001b[0;36m  Input \u001b[0;32mIn [3]\u001b[0;36m\u001b[0m\n\u001b[0;31m    (Output bisa berbeda-beda)\u001b[0m\n\u001b[0m            ^\u001b[0m\n\u001b[0;31mSyntaxError\u001b[0m\u001b[0;31m:\u001b[0m invalid syntax\n"
     ]
    }
   ],
   "source": [
    "pivot_data = pd.pivot_table(df, index='Tipe Ujian',columns='Mata Pelajaran',values='Rata2 Nilai Ujian')\n",
    "df = pivot_data.reindex(pivot_data['Rata2 Nilai Ujian'].sort_values(by='Mata Pelajaran', ascending=False).index)\n",
    "\n",
    "Expected output:\n",
    "\n",
    "(Output bisa berbeda-beda)\n",
    "\n",
    "![alt text](https://drive.google.com/uc?id=1iv8P-LDdN3WpTVX9qST3kL7QSNSDiOc2)"
   ]
  },
  {
   "cell_type": "markdown",
   "metadata": {
    "id": "b9hGS9zFlHaZ"
   },
   "source": []
  },
  {
   "cell_type": "markdown",
   "metadata": {
    "id": "Nw1nJ6oJlH7b"
   },
   "source": [
    "\n",
    "\n",
    "---\n",
    "\n",
    "\n",
    "\n",
    "---\n",
    "\n"
   ]
  },
  {
   "cell_type": "markdown",
   "metadata": {
    "id": "0kQhZ-5bKrxR"
   },
   "source": [
    "<h2>Soal 2: Data Restructuring</h2>\n",
    "\n",
    "Jelaskan itu pivoting dan melting data"
   ]
  },
  {
   "cell_type": "markdown",
   "metadata": {
    "id": "Qz8iLqpalMa-"
   },
   "source": []
  },
  {
   "cell_type": "markdown",
   "metadata": {
    "id": "09wQwmHnmFXq"
   },
   "source": [
    "\n",
    "\n",
    "---\n",
    "\n",
    "pivoting = suatu pengubahan bentuk data dengan memutar data yang terletak di baris menjadi column \n",
    "\n",
    "melting data = kebalikan dari pivotingi ( unpivoting ) mengubah yang tadinya column menjadi posisi row\n",
    "\n",
    "---\n",
    "\n"
   ]
  },
  {
   "cell_type": "markdown",
   "metadata": {
    "id": "Vxig2IeYKrxj"
   },
   "source": [
    "<h2>Soal 3: Reshaping Data 1</h2>"
   ]
  },
  {
   "cell_type": "code",
   "execution_count": 58,
   "metadata": {
    "colab": {
     "base_uri": "https://localhost:8080/",
     "height": 425
    },
    "id": "4Jp7bLWNKrxl",
    "outputId": "a8ca1f5d-bcd1-4279-f835-cc00c6d6d2a4"
   },
   "outputs": [
    {
     "data": {
      "text/html": [
       "<div>\n",
       "<style scoped>\n",
       "    .dataframe tbody tr th:only-of-type {\n",
       "        vertical-align: middle;\n",
       "    }\n",
       "\n",
       "    .dataframe tbody tr th {\n",
       "        vertical-align: top;\n",
       "    }\n",
       "\n",
       "    .dataframe thead th {\n",
       "        text-align: right;\n",
       "    }\n",
       "</style>\n",
       "<table border=\"1\" class=\"dataframe\">\n",
       "  <thead>\n",
       "    <tr style=\"text-align: right;\">\n",
       "      <th></th>\n",
       "      <th>Tipe Ujian</th>\n",
       "      <th>Mata Pelajaran</th>\n",
       "      <th>Rata2 Waktu Belajar (menit)</th>\n",
       "      <th>Rata2 Nilai Ujian</th>\n",
       "    </tr>\n",
       "  </thead>\n",
       "  <tbody>\n",
       "    <tr>\n",
       "      <th>0</th>\n",
       "      <td>UTS1</td>\n",
       "      <td>Fisika</td>\n",
       "      <td>534</td>\n",
       "      <td>50</td>\n",
       "    </tr>\n",
       "    <tr>\n",
       "      <th>1</th>\n",
       "      <td>UAS1</td>\n",
       "      <td>Fisika</td>\n",
       "      <td>792</td>\n",
       "      <td>49</td>\n",
       "    </tr>\n",
       "    <tr>\n",
       "      <th>2</th>\n",
       "      <td>UTS2</td>\n",
       "      <td>Fisika</td>\n",
       "      <td>752</td>\n",
       "      <td>94</td>\n",
       "    </tr>\n",
       "    <tr>\n",
       "      <th>3</th>\n",
       "      <td>UAS2</td>\n",
       "      <td>Fisika</td>\n",
       "      <td>265</td>\n",
       "      <td>78</td>\n",
       "    </tr>\n",
       "    <tr>\n",
       "      <th>4</th>\n",
       "      <td>UTS1</td>\n",
       "      <td>Matematika</td>\n",
       "      <td>771</td>\n",
       "      <td>77</td>\n",
       "    </tr>\n",
       "    <tr>\n",
       "      <th>5</th>\n",
       "      <td>UAS1</td>\n",
       "      <td>Matematika</td>\n",
       "      <td>611</td>\n",
       "      <td>72</td>\n",
       "    </tr>\n",
       "    <tr>\n",
       "      <th>6</th>\n",
       "      <td>UTS2</td>\n",
       "      <td>Matematika</td>\n",
       "      <td>420</td>\n",
       "      <td>65</td>\n",
       "    </tr>\n",
       "    <tr>\n",
       "      <th>7</th>\n",
       "      <td>UAS2</td>\n",
       "      <td>Matematika</td>\n",
       "      <td>283</td>\n",
       "      <td>81</td>\n",
       "    </tr>\n",
       "    <tr>\n",
       "      <th>8</th>\n",
       "      <td>UTS1</td>\n",
       "      <td>Statistika</td>\n",
       "      <td>567</td>\n",
       "      <td>83</td>\n",
       "    </tr>\n",
       "    <tr>\n",
       "      <th>9</th>\n",
       "      <td>UAS1</td>\n",
       "      <td>Statistika</td>\n",
       "      <td>251</td>\n",
       "      <td>98</td>\n",
       "    </tr>\n",
       "    <tr>\n",
       "      <th>10</th>\n",
       "      <td>UTS2</td>\n",
       "      <td>Statistika</td>\n",
       "      <td>343</td>\n",
       "      <td>70</td>\n",
       "    </tr>\n",
       "    <tr>\n",
       "      <th>11</th>\n",
       "      <td>UAS2</td>\n",
       "      <td>Statistika</td>\n",
       "      <td>274</td>\n",
       "      <td>83</td>\n",
       "    </tr>\n",
       "  </tbody>\n",
       "</table>\n",
       "</div>"
      ],
      "text/plain": [
       "   Tipe Ujian Mata Pelajaran  Rata2 Waktu Belajar (menit)  Rata2 Nilai Ujian\n",
       "0        UTS1         Fisika                          534                 50\n",
       "1        UAS1         Fisika                          792                 49\n",
       "2        UTS2         Fisika                          752                 94\n",
       "3        UAS2         Fisika                          265                 78\n",
       "4        UTS1     Matematika                          771                 77\n",
       "5        UAS1     Matematika                          611                 72\n",
       "6        UTS2     Matematika                          420                 65\n",
       "7        UAS2     Matematika                          283                 81\n",
       "8        UTS1     Statistika                          567                 83\n",
       "9        UAS1     Statistika                          251                 98\n",
       "10       UTS2     Statistika                          343                 70\n",
       "11       UAS2     Statistika                          274                 83"
      ]
     },
     "execution_count": 58,
     "metadata": {},
     "output_type": "execute_result"
    }
   ],
   "source": [
    "import pandas as pd\n",
    "import random\n",
    "\n",
    "data = {\n",
    "    'Tipe Ujian' : ['UTS1', 'UAS1', 'UTS2', 'UAS2']*3,\n",
    "    'Mata Pelajaran' : ['Fisika']*4 + ['Matematika']*4+['Statistika']*4,\n",
    "    'Rata2 Waktu Belajar (menit)' : [random.choice(range(200, 800)) for i in range(12)],\n",
    "    'Rata2 Nilai Ujian' : [random.choice(range(40, 100)) for i in range(12)] \n",
    "}\n",
    "\n",
    "df = pd.DataFrame(data)\n",
    "df"
   ]
  },
  {
   "cell_type": "markdown",
   "metadata": {
    "id": "G3yKJFwTKrx8"
   },
   "source": [
    "Perhatikan data di atas, kemudian ubahlah bentuknya agar sesuai yang di harapkan."
   ]
  },
  {
   "cell_type": "code",
   "execution_count": 59,
   "metadata": {
    "id": "9bpRB-RrlQ7b"
   },
   "outputs": [
    {
     "ename": "KeyError",
     "evalue": "\"['\\\\tRata2 Waktu Belajar (menit)'] not in index\"",
     "output_type": "error",
     "traceback": [
      "\u001b[0;31m---------------------------------------------------------------------------\u001b[0m",
      "\u001b[0;31mKeyError\u001b[0m                                  Traceback (most recent call last)",
      "Input \u001b[0;32mIn [59]\u001b[0m, in \u001b[0;36m<cell line: 2>\u001b[0;34m()\u001b[0m\n\u001b[1;32m      1\u001b[0m \u001b[38;5;66;03m#code here\u001b[39;00m\n\u001b[0;32m----> 2\u001b[0m pivot_table \u001b[38;5;241m=\u001b[39m \u001b[43mpd\u001b[49m\u001b[38;5;241;43m.\u001b[39;49m\u001b[43mpivot\u001b[49m\u001b[43m(\u001b[49m\u001b[43mdf\u001b[49m\u001b[43m \u001b[49m\u001b[43m,\u001b[49m\u001b[43m \u001b[49m\u001b[43mindex\u001b[49m\u001b[38;5;241;43m=\u001b[39;49m\u001b[38;5;124;43m'\u001b[39;49m\u001b[38;5;124;43mTipe Ujian\u001b[39;49m\u001b[38;5;124;43m'\u001b[39;49m\u001b[43m,\u001b[49m\u001b[43m \u001b[49m\u001b[43mcolumns\u001b[49m\u001b[43m \u001b[49m\u001b[38;5;241;43m=\u001b[39;49m\u001b[43m \u001b[49m\u001b[38;5;124;43m'\u001b[39;49m\u001b[38;5;124;43mMata Pelajaran\u001b[39;49m\u001b[38;5;124;43m'\u001b[39;49m\u001b[43m \u001b[49m\u001b[43m,\u001b[49m\u001b[43m \u001b[49m\u001b[43mvalues\u001b[49m\u001b[38;5;241;43m=\u001b[39;49m\u001b[43m[\u001b[49m\u001b[38;5;124;43m'\u001b[39;49m\u001b[38;5;124;43mRata2 Nilai Ujian\u001b[39;49m\u001b[38;5;124;43m'\u001b[39;49m\u001b[43m,\u001b[49m\u001b[38;5;124;43m'\u001b[39;49m\u001b[38;5;124;43m\tRata2 Waktu Belajar (menit)\u001b[39;49m\u001b[38;5;124;43m'\u001b[39;49m\u001b[43m]\u001b[49m\u001b[43m)\u001b[49m\n\u001b[1;32m      3\u001b[0m pivot_table\n",
      "File \u001b[0;32m/usr/local/lib/python3.9/site-packages/pandas/core/reshape/pivot.py:516\u001b[0m, in \u001b[0;36mpivot\u001b[0;34m(data, index, columns, values)\u001b[0m\n\u001b[1;32m    512\u001b[0m \u001b[38;5;28;01mif\u001b[39;00m is_list_like(values) \u001b[38;5;129;01mand\u001b[39;00m \u001b[38;5;129;01mnot\u001b[39;00m \u001b[38;5;28misinstance\u001b[39m(values, \u001b[38;5;28mtuple\u001b[39m):\n\u001b[1;32m    513\u001b[0m     \u001b[38;5;66;03m# Exclude tuple because it is seen as a single column name\u001b[39;00m\n\u001b[1;32m    514\u001b[0m     values \u001b[38;5;241m=\u001b[39m cast(Sequence[Hashable], values)\n\u001b[1;32m    515\u001b[0m     indexed \u001b[38;5;241m=\u001b[39m data\u001b[38;5;241m.\u001b[39m_constructor(\n\u001b[0;32m--> 516\u001b[0m         \u001b[43mdata\u001b[49m\u001b[43m[\u001b[49m\u001b[43mvalues\u001b[49m\u001b[43m]\u001b[49m\u001b[38;5;241m.\u001b[39m_values, index\u001b[38;5;241m=\u001b[39mmultiindex, columns\u001b[38;5;241m=\u001b[39mvalues\n\u001b[1;32m    517\u001b[0m     )\n\u001b[1;32m    518\u001b[0m \u001b[38;5;28;01melse\u001b[39;00m:\n\u001b[1;32m    519\u001b[0m     indexed \u001b[38;5;241m=\u001b[39m data\u001b[38;5;241m.\u001b[39m_constructor_sliced(data[values]\u001b[38;5;241m.\u001b[39m_values, index\u001b[38;5;241m=\u001b[39mmultiindex)\n",
      "File \u001b[0;32m/usr/local/lib/python3.9/site-packages/pandas/core/frame.py:3511\u001b[0m, in \u001b[0;36mDataFrame.__getitem__\u001b[0;34m(self, key)\u001b[0m\n\u001b[1;32m   3509\u001b[0m     \u001b[38;5;28;01mif\u001b[39;00m is_iterator(key):\n\u001b[1;32m   3510\u001b[0m         key \u001b[38;5;241m=\u001b[39m \u001b[38;5;28mlist\u001b[39m(key)\n\u001b[0;32m-> 3511\u001b[0m     indexer \u001b[38;5;241m=\u001b[39m \u001b[38;5;28;43mself\u001b[39;49m\u001b[38;5;241;43m.\u001b[39;49m\u001b[43mcolumns\u001b[49m\u001b[38;5;241;43m.\u001b[39;49m\u001b[43m_get_indexer_strict\u001b[49m\u001b[43m(\u001b[49m\u001b[43mkey\u001b[49m\u001b[43m,\u001b[49m\u001b[43m \u001b[49m\u001b[38;5;124;43m\"\u001b[39;49m\u001b[38;5;124;43mcolumns\u001b[39;49m\u001b[38;5;124;43m\"\u001b[39;49m\u001b[43m)\u001b[49m[\u001b[38;5;241m1\u001b[39m]\n\u001b[1;32m   3513\u001b[0m \u001b[38;5;66;03m# take() does not accept boolean indexers\u001b[39;00m\n\u001b[1;32m   3514\u001b[0m \u001b[38;5;28;01mif\u001b[39;00m \u001b[38;5;28mgetattr\u001b[39m(indexer, \u001b[38;5;124m\"\u001b[39m\u001b[38;5;124mdtype\u001b[39m\u001b[38;5;124m\"\u001b[39m, \u001b[38;5;28;01mNone\u001b[39;00m) \u001b[38;5;241m==\u001b[39m \u001b[38;5;28mbool\u001b[39m:\n",
      "File \u001b[0;32m/usr/local/lib/python3.9/site-packages/pandas/core/indexes/base.py:5782\u001b[0m, in \u001b[0;36mIndex._get_indexer_strict\u001b[0;34m(self, key, axis_name)\u001b[0m\n\u001b[1;32m   5779\u001b[0m \u001b[38;5;28;01melse\u001b[39;00m:\n\u001b[1;32m   5780\u001b[0m     keyarr, indexer, new_indexer \u001b[38;5;241m=\u001b[39m \u001b[38;5;28mself\u001b[39m\u001b[38;5;241m.\u001b[39m_reindex_non_unique(keyarr)\n\u001b[0;32m-> 5782\u001b[0m \u001b[38;5;28;43mself\u001b[39;49m\u001b[38;5;241;43m.\u001b[39;49m\u001b[43m_raise_if_missing\u001b[49m\u001b[43m(\u001b[49m\u001b[43mkeyarr\u001b[49m\u001b[43m,\u001b[49m\u001b[43m \u001b[49m\u001b[43mindexer\u001b[49m\u001b[43m,\u001b[49m\u001b[43m \u001b[49m\u001b[43maxis_name\u001b[49m\u001b[43m)\u001b[49m\n\u001b[1;32m   5784\u001b[0m keyarr \u001b[38;5;241m=\u001b[39m \u001b[38;5;28mself\u001b[39m\u001b[38;5;241m.\u001b[39mtake(indexer)\n\u001b[1;32m   5785\u001b[0m \u001b[38;5;28;01mif\u001b[39;00m \u001b[38;5;28misinstance\u001b[39m(key, Index):\n\u001b[1;32m   5786\u001b[0m     \u001b[38;5;66;03m# GH 42790 - Preserve name from an Index\u001b[39;00m\n",
      "File \u001b[0;32m/usr/local/lib/python3.9/site-packages/pandas/core/indexes/base.py:5845\u001b[0m, in \u001b[0;36mIndex._raise_if_missing\u001b[0;34m(self, key, indexer, axis_name)\u001b[0m\n\u001b[1;32m   5842\u001b[0m     \u001b[38;5;28;01mraise\u001b[39;00m \u001b[38;5;167;01mKeyError\u001b[39;00m(\u001b[38;5;124mf\u001b[39m\u001b[38;5;124m\"\u001b[39m\u001b[38;5;124mNone of [\u001b[39m\u001b[38;5;132;01m{\u001b[39;00mkey\u001b[38;5;132;01m}\u001b[39;00m\u001b[38;5;124m] are in the [\u001b[39m\u001b[38;5;132;01m{\u001b[39;00maxis_name\u001b[38;5;132;01m}\u001b[39;00m\u001b[38;5;124m]\u001b[39m\u001b[38;5;124m\"\u001b[39m)\n\u001b[1;32m   5844\u001b[0m not_found \u001b[38;5;241m=\u001b[39m \u001b[38;5;28mlist\u001b[39m(ensure_index(key)[missing_mask\u001b[38;5;241m.\u001b[39mnonzero()[\u001b[38;5;241m0\u001b[39m]]\u001b[38;5;241m.\u001b[39munique())\n\u001b[0;32m-> 5845\u001b[0m \u001b[38;5;28;01mraise\u001b[39;00m \u001b[38;5;167;01mKeyError\u001b[39;00m(\u001b[38;5;124mf\u001b[39m\u001b[38;5;124m\"\u001b[39m\u001b[38;5;132;01m{\u001b[39;00mnot_found\u001b[38;5;132;01m}\u001b[39;00m\u001b[38;5;124m not in index\u001b[39m\u001b[38;5;124m\"\u001b[39m)\n",
      "\u001b[0;31mKeyError\u001b[0m: \"['\\\\tRata2 Waktu Belajar (menit)'] not in index\""
     ]
    }
   ],
   "source": [
    "#code here\n",
    "pivot_table = pd.pivot(df , index='Tipe Ujian', columns = 'Mata Pelajaran' , values=['Rata2 Nilai Ujian','\tRata2 Waktu Belajar (menit)'])\n",
    "pivot_table"
   ]
  },
  {
   "cell_type": "markdown",
   "metadata": {
    "id": "xA8ZlQErKryO"
   },
   "source": [
    "Expected Result:\n",
    "\n",
    "(Output bisa berbeda-beda)\n",
    "\n",
    "![alt text](https://drive.google.com/uc?id=1XufsfqZe7-XZLsb92SpATexy-QRZE0ow)"
   ]
  },
  {
   "cell_type": "markdown",
   "metadata": {
    "id": "V6eTRMxumClB"
   },
   "source": [
    "\n",
    "\n",
    "---\n",
    "\n",
    "\n",
    "\n",
    "---\n",
    "\n"
   ]
  },
  {
   "cell_type": "markdown",
   "metadata": {
    "id": "pXb8LRDWKryQ"
   },
   "source": [
    "<h2>Soal 4: Reshaping Data 2</h2>"
   ]
  },
  {
   "cell_type": "code",
   "execution_count": 7,
   "metadata": {
    "colab": {
     "base_uri": "https://localhost:8080/",
     "height": 143
    },
    "id": "LHe2XZyNKryS",
    "outputId": "4386a973-7623-4efb-bcea-dce7286036d1"
   },
   "outputs": [
    {
     "data": {
      "text/html": [
       "<div>\n",
       "<style scoped>\n",
       "    .dataframe tbody tr th:only-of-type {\n",
       "        vertical-align: middle;\n",
       "    }\n",
       "\n",
       "    .dataframe tbody tr th {\n",
       "        vertical-align: top;\n",
       "    }\n",
       "\n",
       "    .dataframe thead th {\n",
       "        text-align: right;\n",
       "    }\n",
       "</style>\n",
       "<table border=\"1\" class=\"dataframe\">\n",
       "  <thead>\n",
       "    <tr style=\"text-align: right;\">\n",
       "      <th></th>\n",
       "      <th>Kebun Binatang</th>\n",
       "      <th>Dufan</th>\n",
       "      <th>Disney</th>\n",
       "      <th>Bali</th>\n",
       "    </tr>\n",
       "    <tr>\n",
       "      <th>Hari</th>\n",
       "      <th></th>\n",
       "      <th></th>\n",
       "      <th></th>\n",
       "      <th></th>\n",
       "    </tr>\n",
       "  </thead>\n",
       "  <tbody>\n",
       "    <tr>\n",
       "      <th>Sabtu</th>\n",
       "      <td>271</td>\n",
       "      <td>501</td>\n",
       "      <td>1000</td>\n",
       "      <td>900</td>\n",
       "    </tr>\n",
       "    <tr>\n",
       "      <th>Minggu</th>\n",
       "      <td>399</td>\n",
       "      <td>700</td>\n",
       "      <td>1001</td>\n",
       "      <td>803</td>\n",
       "    </tr>\n",
       "  </tbody>\n",
       "</table>\n",
       "</div>"
      ],
      "text/plain": [
       "        Kebun Binatang  Dufan  Disney  Bali\n",
       "Hari                                       \n",
       "Sabtu              271    501    1000   900\n",
       "Minggu             399    700    1001   803"
      ]
     },
     "execution_count": 7,
     "metadata": {},
     "output_type": "execute_result"
    }
   ],
   "source": [
    "import pandas as pd\n",
    "\n",
    "data = {\n",
    "    'Hari' : ['Sabtu', 'Minggu'],\n",
    "    'Kebun Binatang' : [271, 399],\n",
    "    'Dufan' : [501, 700],\n",
    "    'Disney' : [1000, 1001],\n",
    "    'Bali' : [900, 803]\n",
    "}\n",
    "df = pd.DataFrame(data).set_index('Hari')\n",
    "df"
   ]
  },
  {
   "cell_type": "markdown",
   "metadata": {
    "id": "w87S4Xl_Kryg"
   },
   "source": [
    "diatas adalah data tentang jumlah pengunjung di berbagai tempat hiburan, ubahlah struktur data tersebut sehingga sesuai dengan hasil yang diharapkan."
   ]
  },
  {
   "cell_type": "code",
   "execution_count": 50,
   "metadata": {
    "id": "LWhJnmTclZmj"
   },
   "outputs": [
    {
     "data": {
      "text/html": [
       "<div>\n",
       "<style scoped>\n",
       "    .dataframe tbody tr th:only-of-type {\n",
       "        vertical-align: middle;\n",
       "    }\n",
       "\n",
       "    .dataframe tbody tr th {\n",
       "        vertical-align: top;\n",
       "    }\n",
       "\n",
       "    .dataframe thead th {\n",
       "        text-align: right;\n",
       "    }\n",
       "</style>\n",
       "<table border=\"1\" class=\"dataframe\">\n",
       "  <thead>\n",
       "    <tr style=\"text-align: right;\">\n",
       "      <th></th>\n",
       "      <th>Hari</th>\n",
       "      <th>variable</th>\n",
       "      <th>value</th>\n",
       "    </tr>\n",
       "  </thead>\n",
       "  <tbody>\n",
       "    <tr>\n",
       "      <th>0</th>\n",
       "      <td>Sabtu</td>\n",
       "      <td>Kebun Binatang</td>\n",
       "      <td>271</td>\n",
       "    </tr>\n",
       "    <tr>\n",
       "      <th>1</th>\n",
       "      <td>Minggu</td>\n",
       "      <td>Kebun Binatang</td>\n",
       "      <td>399</td>\n",
       "    </tr>\n",
       "    <tr>\n",
       "      <th>2</th>\n",
       "      <td>Sabtu</td>\n",
       "      <td>Dufan</td>\n",
       "      <td>501</td>\n",
       "    </tr>\n",
       "    <tr>\n",
       "      <th>3</th>\n",
       "      <td>Minggu</td>\n",
       "      <td>Dufan</td>\n",
       "      <td>700</td>\n",
       "    </tr>\n",
       "    <tr>\n",
       "      <th>4</th>\n",
       "      <td>Sabtu</td>\n",
       "      <td>Disney</td>\n",
       "      <td>1000</td>\n",
       "    </tr>\n",
       "    <tr>\n",
       "      <th>5</th>\n",
       "      <td>Minggu</td>\n",
       "      <td>Disney</td>\n",
       "      <td>1001</td>\n",
       "    </tr>\n",
       "    <tr>\n",
       "      <th>6</th>\n",
       "      <td>Sabtu</td>\n",
       "      <td>Bali</td>\n",
       "      <td>900</td>\n",
       "    </tr>\n",
       "    <tr>\n",
       "      <th>7</th>\n",
       "      <td>Minggu</td>\n",
       "      <td>Bali</td>\n",
       "      <td>803</td>\n",
       "    </tr>\n",
       "  </tbody>\n",
       "</table>\n",
       "</div>"
      ],
      "text/plain": [
       "     Hari        variable  value\n",
       "0   Sabtu  Kebun Binatang    271\n",
       "1  Minggu  Kebun Binatang    399\n",
       "2   Sabtu           Dufan    501\n",
       "3  Minggu           Dufan    700\n",
       "4   Sabtu          Disney   1000\n",
       "5  Minggu          Disney   1001\n",
       "6   Sabtu            Bali    900\n",
       "7  Minggu            Bali    803"
      ]
     },
     "execution_count": 50,
     "metadata": {},
     "output_type": "execute_result"
    }
   ],
   "source": [
    "#code here\n",
    "\n",
    "melt = df.reset_index()\n",
    "pd.melt(melt, id_vars =['Hari'],value_vars=['Kebun Binatang','Dufan','Disney','Bali'] ) \n"
   ]
  },
  {
   "cell_type": "markdown",
   "metadata": {
    "id": "d7_5dDsRKryi"
   },
   "source": [
    "Expected Result:\n",
    "\n",
    "(Output bisa berbeda-beda)\n",
    "\n",
    "![alt text](https://drive.google.com/uc?id=159mIqcyfeD30EEcyZmmkovORa6cZDLtn)"
   ]
  },
  {
   "cell_type": "markdown",
   "metadata": {
    "id": "gIj28fRmmAKd"
   },
   "source": [
    "\n",
    "\n",
    "---\n",
    "\n",
    "\n",
    "\n",
    "---\n",
    "\n"
   ]
  },
  {
   "cell_type": "markdown",
   "metadata": {
    "id": "GGHgeYkEKryk"
   },
   "source": [
    "<h2>Soal 5: Data Enrichment</h2>\n",
    "\n",
    "Lakukan binning data menggunakan qcut sehingga sesuai hasil yang diharapkan"
   ]
  },
  {
   "cell_type": "code",
   "execution_count": 57,
   "metadata": {
    "id": "hlKoN9GyllvC"
   },
   "outputs": [
    {
     "data": {
      "text/html": [
       "<div>\n",
       "<style scoped>\n",
       "    .dataframe tbody tr th:only-of-type {\n",
       "        vertical-align: middle;\n",
       "    }\n",
       "\n",
       "    .dataframe tbody tr th {\n",
       "        vertical-align: top;\n",
       "    }\n",
       "\n",
       "    .dataframe thead th {\n",
       "        text-align: right;\n",
       "    }\n",
       "</style>\n",
       "<table border=\"1\" class=\"dataframe\">\n",
       "  <thead>\n",
       "    <tr style=\"text-align: right;\">\n",
       "      <th></th>\n",
       "      <th>Tipe Ujian</th>\n",
       "      <th>Mata Pelajaran</th>\n",
       "      <th>Rata2 Waktu Belajar (menit)</th>\n",
       "      <th>Rata2 Nilai Ujian</th>\n",
       "      <th>kelulusan</th>\n",
       "    </tr>\n",
       "  </thead>\n",
       "  <tbody>\n",
       "    <tr>\n",
       "      <th>0</th>\n",
       "      <td>UTS1</td>\n",
       "      <td>Fisika</td>\n",
       "      <td>321</td>\n",
       "      <td>65</td>\n",
       "      <td>tidak lulus</td>\n",
       "    </tr>\n",
       "    <tr>\n",
       "      <th>1</th>\n",
       "      <td>UAS1</td>\n",
       "      <td>Fisika</td>\n",
       "      <td>661</td>\n",
       "      <td>57</td>\n",
       "      <td>lulus</td>\n",
       "    </tr>\n",
       "    <tr>\n",
       "      <th>2</th>\n",
       "      <td>UTS2</td>\n",
       "      <td>Fisika</td>\n",
       "      <td>562</td>\n",
       "      <td>92</td>\n",
       "      <td>remedial</td>\n",
       "    </tr>\n",
       "    <tr>\n",
       "      <th>3</th>\n",
       "      <td>UAS2</td>\n",
       "      <td>Fisika</td>\n",
       "      <td>273</td>\n",
       "      <td>93</td>\n",
       "      <td>remedial</td>\n",
       "    </tr>\n",
       "    <tr>\n",
       "      <th>4</th>\n",
       "      <td>UTS1</td>\n",
       "      <td>Matematika</td>\n",
       "      <td>797</td>\n",
       "      <td>79</td>\n",
       "      <td>tidak lulus</td>\n",
       "    </tr>\n",
       "    <tr>\n",
       "      <th>5</th>\n",
       "      <td>UAS1</td>\n",
       "      <td>Matematika</td>\n",
       "      <td>579</td>\n",
       "      <td>57</td>\n",
       "      <td>lulus</td>\n",
       "    </tr>\n",
       "    <tr>\n",
       "      <th>6</th>\n",
       "      <td>UTS2</td>\n",
       "      <td>Matematika</td>\n",
       "      <td>520</td>\n",
       "      <td>73</td>\n",
       "      <td>tidak lulus</td>\n",
       "    </tr>\n",
       "    <tr>\n",
       "      <th>7</th>\n",
       "      <td>UAS2</td>\n",
       "      <td>Matematika</td>\n",
       "      <td>449</td>\n",
       "      <td>47</td>\n",
       "      <td>lulus</td>\n",
       "    </tr>\n",
       "    <tr>\n",
       "      <th>8</th>\n",
       "      <td>UTS1</td>\n",
       "      <td>Statistika</td>\n",
       "      <td>578</td>\n",
       "      <td>53</td>\n",
       "      <td>lulus</td>\n",
       "    </tr>\n",
       "    <tr>\n",
       "      <th>9</th>\n",
       "      <td>UAS1</td>\n",
       "      <td>Statistika</td>\n",
       "      <td>729</td>\n",
       "      <td>85</td>\n",
       "      <td>remedial</td>\n",
       "    </tr>\n",
       "    <tr>\n",
       "      <th>10</th>\n",
       "      <td>UTS2</td>\n",
       "      <td>Statistika</td>\n",
       "      <td>456</td>\n",
       "      <td>85</td>\n",
       "      <td>remedial</td>\n",
       "    </tr>\n",
       "    <tr>\n",
       "      <th>11</th>\n",
       "      <td>UAS2</td>\n",
       "      <td>Statistika</td>\n",
       "      <td>513</td>\n",
       "      <td>56</td>\n",
       "      <td>lulus</td>\n",
       "    </tr>\n",
       "  </tbody>\n",
       "</table>\n",
       "</div>"
      ],
      "text/plain": [
       "   Tipe Ujian Mata Pelajaran  Rata2 Waktu Belajar (menit)  Rata2 Nilai Ujian  \\\n",
       "0        UTS1         Fisika                          321                 65   \n",
       "1        UAS1         Fisika                          661                 57   \n",
       "2        UTS2         Fisika                          562                 92   \n",
       "3        UAS2         Fisika                          273                 93   \n",
       "4        UTS1     Matematika                          797                 79   \n",
       "5        UAS1     Matematika                          579                 57   \n",
       "6        UTS2     Matematika                          520                 73   \n",
       "7        UAS2     Matematika                          449                 47   \n",
       "8        UTS1     Statistika                          578                 53   \n",
       "9        UAS1     Statistika                          729                 85   \n",
       "10       UTS2     Statistika                          456                 85   \n",
       "11       UAS2     Statistika                          513                 56   \n",
       "\n",
       "      kelulusan  \n",
       "0   tidak lulus  \n",
       "1         lulus  \n",
       "2      remedial  \n",
       "3      remedial  \n",
       "4   tidak lulus  \n",
       "5         lulus  \n",
       "6   tidak lulus  \n",
       "7         lulus  \n",
       "8         lulus  \n",
       "9      remedial  \n",
       "10     remedial  \n",
       "11        lulus  "
      ]
     },
     "execution_count": 57,
     "metadata": {},
     "output_type": "execute_result"
    }
   ],
   "source": [
    "#code here\n",
    "labels = ['lulus','tidak lulus','remedial']\n",
    "df['kelulusan'] = pd.qcut(df['Rata2 Nilai Ujian'],q=3 , labels=labels)\n",
    "df"
   ]
  },
  {
   "cell_type": "markdown",
   "metadata": {
    "id": "1xO-ji8mlqZd"
   },
   "source": [
    "Expected Output:\n",
    "\n",
    "(Output bisa berbeda-beda)\n",
    "\n",
    "![alt text](https://drive.google.com/uc?id=1h2_u5_xhD1_QtPpItTj-o3lljHhnr4XS)"
   ]
  },
  {
   "cell_type": "markdown",
   "metadata": {
    "id": "z0zn0Xa0l8s_"
   },
   "source": [
    "\n",
    "\n",
    "---\n",
    "\n",
    "\n",
    "\n",
    "---\n",
    "\n"
   ]
  }
 ],
 "metadata": {
  "colab": {
   "collapsed_sections": [],
   "name": "Tugas Hari 3 Pekan 2.ipynb",
   "provenance": []
  },
  "interpreter": {
   "hash": "7d9b6e80cea27199fc4267d3efa1041b1712d6425fd4c6b383ef95f27d8bde1d"
  },
  "kernelspec": {
   "display_name": "Python 3 (ipykernel)",
   "language": "python",
   "name": "python3"
  },
  "language_info": {
   "codemirror_mode": {
    "name": "ipython",
    "version": 3
   },
   "file_extension": ".py",
   "mimetype": "text/x-python",
   "name": "python",
   "nbconvert_exporter": "python",
   "pygments_lexer": "ipython3",
   "version": "3.9.13"
  }
 },
 "nbformat": 4,
 "nbformat_minor": 1
}
