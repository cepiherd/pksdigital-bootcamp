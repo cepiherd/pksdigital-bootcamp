{
 "cells": [
  {
   "cell_type": "markdown",
   "metadata": {
    "id": "a9HYUdCUsrKl"
   },
   "source": [
    "<h2>Soal 1: Comparison Operator</h2>\n",
    "\n",
    "- Berikan contoh comparison dari tipe data string\n",
    "- Berikan contoh comparison dari tipe data boolean\n",
    "- Berikan contoh comparison dari tipe data integer"
   ]
  },
  {
   "cell_type": "code",
   "execution_count": 8,
   "metadata": {
    "id": "fUFkFOt0afUL"
   },
   "outputs": [
    {
     "name": "stdout",
     "output_type": "stream",
     "text": [
      "Cepi ganteng\n",
      "Boleh nonton narflix\n",
      "True\n"
     ]
    }
   ],
   "source": [
    "_kejujuran = \"ganteng\"\n",
    "\n",
    "_age = 8\n",
    "\n",
    "if _kejujuran == \"ganteng\":\n",
    "    print(\"Cepi \" + _kejujuran)\n",
    "\n",
    "if _age > 7 :\n",
    "    print(\"Boleh nonton narflix\")\n",
    "else : \n",
    "    print(\"Nonton Spacetoon aja\")\n",
    "    \n",
    "if True == True :\n",
    "    print(True)\n",
    "else :\n",
    "    print(False)"
   ]
  },
  {
   "cell_type": "markdown",
   "metadata": {
    "id": "XeywALwwhZn7"
   },
   "source": [
    "\n",
    "\n",
    "---\n",
    "\n",
    "\n",
    "\n",
    "---\n",
    "\n"
   ]
  },
  {
   "cell_type": "markdown",
   "metadata": {
    "id": "IbNoZvVssrK5"
   },
   "source": [
    "<h2>Soal 2: Boolean Comparison</h2>\n",
    "\n",
    "- Berikan contoh gabungan multiple comparison menggunkan Boolean Comparisin 'and'\n",
    "- Berikan contoh gabungan multiple comparison menggunkan Boolean Comparisin 'or'\n",
    "- Berikan contoh gabungan multiple comparison menggunkan Boolean Comparisin 'not'"
   ]
  },
  {
   "cell_type": "code",
   "execution_count": 19,
   "metadata": {
    "id": "M1mwGoegaiET"
   },
   "outputs": [
    {
     "name": "stdout",
     "output_type": "stream",
     "text": [
      "Lulus\n",
      "Ini juaranya\n",
      "udah nikah ya\n"
     ]
    }
   ],
   "source": [
    "_nilai = 8\n",
    "_bolos = 8\n",
    "_name1 = \"cepi\"\n",
    "_name2 = \"hena\"\n",
    "\n",
    "if _nilai > 8 and _bolos > 2 :\n",
    "    print('Tidak lulus')\n",
    "else : \n",
    "    print('Lulus')\n",
    "    \n",
    "if _nilai >= 8 or _bolos < 2 :\n",
    "    print('Ini juaranya')\n",
    "else:\n",
    "    print('Murid biasa aja')\n",
    "\n",
    "    \n",
    "if _name1  is not _name2  :\n",
    "    print('udah nikah ya')\n",
    "else : \n",
    "    print('!')\n"
   ]
  },
  {
   "cell_type": "markdown",
   "metadata": {
    "id": "Y3ejsyvqhciI"
   },
   "source": [
    "\n",
    "\n",
    "---\n",
    "\n",
    "\n",
    "\n",
    "---\n",
    "\n"
   ]
  },
  {
   "cell_type": "markdown",
   "metadata": {
    "id": "Yp_g_sPMsrLH"
   },
   "source": [
    "<h2>Soal 3: If-Else Statement</h2>\n",
    "\n",
    "Lengkapi kode untuk menghasilkan suatu output yang di harapkan\n",
    "\n",
    "- Bualah sebuah if-else statement yang dimana akan mem-print 'High' jika grade adalah 'A' dan price lebih dari 100000, kemudian mem-print 'Medium' jika grade adalah 'A' dan price lebih dari 50000 dan memprint 'low' jika grade adalah 'A' dan price lebih kecil dan sama dengan 50000."
   ]
  },
  {
   "cell_type": "code",
   "execution_count": 24,
   "metadata": {
    "id": "2PPsaN50c9ew"
   },
   "outputs": [
    {
     "name": "stdout",
     "output_type": "stream",
     "text": [
      "Medium\n"
     ]
    }
   ],
   "source": [
    "#code here\n",
    "_grade = \"A\"\n",
    "_price = 80000\n",
    "if _grade == \"A\" and _price > 100000 : \n",
    "    print('High')\n",
    "elif _grade == \"A\" and _price > 50000 :\n",
    "    print('Medium')\n",
    "elif _grade == \"A\" and _price <= 50000:\n",
    "    print('Low')"
   ]
  },
  {
   "cell_type": "markdown",
   "metadata": {
    "id": "FkSxKlMNhfzn"
   },
   "source": [
    "\n",
    "\n",
    "---\n",
    "\n",
    "\n",
    "\n",
    "---\n",
    "\n"
   ]
  },
  {
   "cell_type": "markdown",
   "metadata": {
    "id": "gf0D64xOsrLl"
   },
   "source": [
    "<h2>Soal 4: While Loop dan For Loop</h2>\n",
    "\n",
    "- Apa perbedaan while loop dan for loop?\n",
    "- Berikan contoh sederhana cara menggunakan while loop dan for loop"
   ]
  },
  {
   "cell_type": "markdown",
   "metadata": {
    "id": "cSrE7RbvdXWe"
   },
   "source": [
    "jawaban perbedaan\n"
   ]
  },
  {
   "cell_type": "code",
   "execution_count": 33,
   "metadata": {
    "id": "RSf-gg-rdY35"
   },
   "outputs": [
    {
     "name": "stdout",
     "output_type": "stream",
     "text": [
      "abdullah\n",
      "cepi ganteng\n",
      "hena istri saya\n",
      "saya tidak akan mengulangi lagi , hingga saya di strap 0 kali\n",
      "saya tidak akan mengulangi lagi , hingga saya di strap 1 kali\n",
      "saya tidak akan mengulangi lagi , hingga saya di strap 2 kali\n",
      "saya tidak akan mengulangi lagi , hingga saya di strap 3 kali\n",
      "saya tidak akan mengulangi lagi , hingga saya di strap 4 kali\n",
      "saya tidak akan mengulangi lagi , hingga saya di strap 5 kali\n",
      "saya tidak akan mengulangi lagi , hingga saya di strap 6 kali\n",
      "saya tidak akan mengulangi lagi , hingga saya di strap 7 kali\n",
      "saya tidak akan mengulangi lagi , hingga saya di strap 8 kali\n",
      "saya tidak akan mengulangi lagi , hingga saya di strap 9 kali\n"
     ]
    }
   ],
   "source": [
    "# jawaban contoh\n",
    "# while loop  adalah yang terus menerus melakukan looping sampai memenuhi suatu kondisi yang membuat dia harus berhenti\n",
    "# for loop => Struktur perulangan for biasa digunakan untuk mengulang suatu proses yang telah diketahui jumlah perulangannya\n",
    "\n",
    "#for loop \n",
    "\n",
    "_list = ['abdullah','cepi ganteng','hena istri saya']\n",
    "for i in _list : \n",
    "    print(i)\n",
    "\n",
    "#while\n",
    "i = 0\n",
    "while i < 10:\n",
    "    print(\"saya tidak akan mengulangi lagi , hingga saya di strap \" + str(i) + \" kali\")\n",
    "    i += 1"
   ]
  },
  {
   "cell_type": "markdown",
   "metadata": {
    "id": "xJq6aaArhlDN"
   },
   "source": [
    "\n",
    "\n",
    "---\n",
    "\n",
    "\n",
    "\n",
    "---\n",
    "\n"
   ]
  },
  {
   "cell_type": "markdown",
   "metadata": {
    "id": "fZQpBGCgsrLz"
   },
   "source": [
    "<h2>Soal 5: While Loop</h2>\n",
    "    \n",
    "Buatlah sebuah code while loop sebagai berikut :\n",
    "- Buatlah suatu fungsi yang menerima satu input nilai numerik\n",
    "- Dalam fungsi, Buat sebuah while-loop dengan melakukan comparasi terhadap inputan tersebut, dimana looping/iterasi terus berjalan apabila nilai inputan tidak sama dengan 0\n",
    "- Dalam setiap iterasi update nilai variable inputan itu, jika input lebih dari 0, maka kurangi variabel tersebut sebesar 1, selain itu tambahkan 1\n",
    "- print nilai variable input dalam setiap awal iterasi"
   ]
  },
  {
   "cell_type": "code",
   "execution_count": 63,
   "metadata": {
    "id": "uc6N4UmedrU6"
   },
   "outputs": [
    {
     "name": "stdout",
     "output_type": "stream",
     "text": [
      "-10\n",
      "-9\n",
      "-8\n",
      "-7\n",
      "-6\n",
      "-5\n",
      "-4\n",
      "-3\n",
      "-2\n",
      "-1\n"
     ]
    }
   ],
   "source": [
    "a = -10\n",
    "\n",
    "def fungsi_while(angka):\n",
    "    i = 0\n",
    "    if angka > 0 :\n",
    "        while i < angka :\n",
    "            print(angka)\n",
    "            angka -= 1\n",
    "    else :\n",
    "        while i > angka : \n",
    "            print(angka)\n",
    "            angka += 1\n",
    "\n",
    "fungsi_while(a)"
   ]
  },
  {
   "cell_type": "markdown",
   "metadata": {
    "id": "lKzngRrlsrMD"
   },
   "source": [
    "Expected Output:\n",
    "\n",
    "jika a = 10                           \n",
    "\n",
    "10                                   \n",
    "9                      \n",
    "8   \n",
    "7   \n",
    "6  \n",
    "5  \n",
    "4  \n",
    "3  \n",
    "2  \n",
    "1\n",
    "\n",
    "jika a = -10\n",
    "\n",
    "-10                                   \n",
    "-9                        \n",
    "-8  \n",
    "-7  \n",
    "-6  \n",
    "-5  \n",
    "-4  \n",
    "-3  \n",
    "-2  \n",
    "-1\n"
   ]
  }
 ],
 "metadata": {
  "colab": {
   "collapsed_sections": [],
   "name": " Tugas Hari 4.ipynb",
   "provenance": []
  },
  "kernelspec": {
   "display_name": "Python 3 (ipykernel)",
   "language": "python",
   "name": "python3"
  },
  "language_info": {
   "codemirror_mode": {
    "name": "ipython",
    "version": 3
   },
   "file_extension": ".py",
   "mimetype": "text/x-python",
   "name": "python",
   "nbconvert_exporter": "python",
   "pygments_lexer": "ipython3",
   "version": "3.9.13"
  }
 },
 "nbformat": 4,
 "nbformat_minor": 1
}
